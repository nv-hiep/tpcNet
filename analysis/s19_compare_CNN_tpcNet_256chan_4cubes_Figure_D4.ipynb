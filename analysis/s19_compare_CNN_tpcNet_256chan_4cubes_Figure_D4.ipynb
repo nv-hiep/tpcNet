{
 "cells": [
  {
   "cell_type": "markdown",
   "id": "36737934-3386-45e4-a936-e1faba91c343",
   "metadata": {
    "id": "36737934-3386-45e4-a936-e1faba91c343"
   },
   "source": [
    "# Libraries"
   ]
  },
  {
   "cell_type": "code",
   "execution_count": null,
   "id": "760c367a-2fea-43d6-a704-4e9e95433084",
   "metadata": {
    "id": "760c367a-2fea-43d6-a704-4e9e95433084"
   },
   "outputs": [],
   "source": [
    "import numpy as np\n",
    "\n",
    "from scipy.stats import pearsonr\n",
    "from scipy.stats import spearmanr\n",
    "\n",
    "import matplotlib.pyplot as plt\n",
    "import matplotlib as mpl\n",
    "\n",
    "import pandas as pd\n",
    "\n",
    "import torch\n",
    "\n",
    "from pathlib import Path"
   ]
  },
  {
   "cell_type": "code",
   "execution_count": null,
   "id": "eqlpX27AY9Fm",
   "metadata": {
    "id": "eqlpX27AY9Fm"
   },
   "outputs": [],
   "source": [
    "# Set the font family for math symbols\n",
    "plt.rcParams[\"mathtext.fontset\"] = \"custom\"\n",
    "plt.rcParams[\"mathtext.rm\"] = \"Times New Roman\"\n",
    "plt.rcParams[\"mathtext.it\"] = \"Times New Roman:italic\"\n",
    "plt.rcParams[\"mathtext.bf\"] = \"Times New Roman:bold\"\n",
    "\n",
    "plt.rcParams['mathtext.fontset'] = 'cm'\n",
    "plt.rcParams['font.family'] = 'STIXGeneral'"
   ]
  },
  {
   "cell_type": "markdown",
   "id": "Bjl546_hCOAb",
   "metadata": {
    "id": "Bjl546_hCOAb"
   },
   "source": [
    "# Fcn"
   ]
  },
  {
   "cell_type": "code",
   "execution_count": null,
   "id": "3g0l2C7OfBlV",
   "metadata": {
    "id": "3g0l2C7OfBlV"
   },
   "outputs": [],
   "source": [
    "# def split_into_chunks(arr, chunk_size):\n",
    "#     return [arr[i:i + chunk_size] for i in range(0, len(arr), chunk_size)]\n",
    "\n",
    "\n",
    "def split_into_chunks(arr, chunk_size):\n",
    "    return np.array([arr[i:i + chunk_size] for i in range(0, len(arr), chunk_size)])"
   ]
  },
  {
   "cell_type": "markdown",
   "id": "Pmxti1kr4cF1",
   "metadata": {
    "id": "Pmxti1kr4cF1"
   },
   "source": [
    "# Paths"
   ]
  },
  {
   "cell_type": "code",
   "execution_count": null,
   "id": "zC0p1HR24dtt",
   "metadata": {
    "colab": {
     "base_uri": "https://localhost:8080/"
    },
    "id": "zC0p1HR24dtt",
    "outputId": "6a01249d-b597-4588-d198-ad0fbbeca771"
   },
   "outputs": [],
   "source": [
    "home_path = Path.home()\n",
    "\n",
    "base = home_path / 'base'\n",
    "data_path = base / 'data'\n",
    "ml_data_path = data_path / 'ML'\n",
    "ppv_data_path = ml_data_path / 'ppv'\n",
    "\n",
    "train_data_path = ml_data_path / 'train'"
   ]
  },
  {
   "cell_type": "markdown",
   "id": "7Q93pgOoHkZP",
   "metadata": {
    "id": "7Q93pgOoHkZP"
   },
   "source": [
    "# GPU or CPU"
   ]
  },
  {
   "cell_type": "code",
   "execution_count": 7,
   "id": "lzw9fzzAHjVj",
   "metadata": {
    "colab": {
     "base_uri": "https://localhost:8080/"
    },
    "id": "lzw9fzzAHjVj",
    "outputId": "e56687a2-ddbc-41c3-a66e-36a8ed868ce0"
   },
   "outputs": [
    {
     "name": "stdout",
     "output_type": "stream",
     "text": [
      "device:  cpu\n"
     ]
    }
   ],
   "source": [
    "# GPU or CPU\n",
    "device = torch.device('cuda:0' if torch.cuda.is_available() else 'cpu')\n",
    "print('device: ', device)"
   ]
  },
  {
   "cell_type": "code",
   "execution_count": 8,
   "id": "XkKpJlrBamnV",
   "metadata": {
    "colab": {
     "base_uri": "https://localhost:8080/"
    },
    "id": "XkKpJlrBamnV",
    "outputId": "e28ba56f-2d3c-4656-ee92-6f058176369c"
   },
   "outputs": [
    {
     "data": {
      "text/plain": [
       "0"
      ]
     },
     "execution_count": 8,
     "metadata": {},
     "output_type": "execute_result"
    }
   ],
   "source": [
    "torch.cuda.device_count()"
   ]
  },
  {
   "cell_type": "markdown",
   "id": "8e93a3f5",
   "metadata": {},
   "source": [
    "# CNN"
   ]
  },
  {
   "cell_type": "code",
   "execution_count": null,
   "id": "53f89f3c",
   "metadata": {},
   "outputs": [],
   "source": [
    "cnn_data_path  = train_data_path / 'cnn'\n",
    "checkpoint_path = cnn_data_path / 'checkpoint'\n",
    "training_process_path = cnn_data_path / 'cnn256_split'"
   ]
  },
  {
   "cell_type": "code",
   "execution_count": null,
   "id": "1aec3d54",
   "metadata": {},
   "outputs": [],
   "source": [
    "pe_list  = ['original_vector',  'index_concate',  'index_add',  'sin_concate',  'sin_add', 'poly_concate']\n",
    "pev_list = ['Original', 'Concat Index', 'Add Index', 'Concat Sinusoidal', 'Add Sinusoidal', 'Concat Polynomial']\n",
    "npe        = len(pe_list)\n",
    "\n",
    "prex = 'cnn_'\n",
    "suffix = '_c256'\n",
    "\n",
    "file_list  = [training_process_path / (prex + x + suffix + '.csv') for x in pe_list]\n",
    "file_list"
   ]
  },
  {
   "cell_type": "code",
   "execution_count": null,
   "id": "6fe4f102",
   "metadata": {},
   "outputs": [],
   "source": [
    "valid_mean_mse_arr = np.zeros(npe)\n",
    "valid_std_mse_arr = np.zeros(npe)\n",
    "\n",
    "test_mean_mse_arr = np.zeros(npe)\n",
    "test_std_mse_arr = np.zeros(npe)\n",
    "\n",
    "valid_mean_mse_arr_list = []\n",
    "test_mean_mse_arr_list  = []\n",
    "\n",
    "for (i, csvfile) in enumerate(file_list):\n",
    "  df = pd.read_csv(csvfile)\n",
    "\n",
    "  valid_mse_values = np.sqrt(df.valid_err.values)\n",
    "  test_mse_values  = np.sqrt(df.test_err.values)\n",
    "\n",
    "  valid_mean_mse_arr_list.append(valid_mse_values)\n",
    "  test_mean_mse_arr_list.append(test_mse_values)\n",
    "\n",
    "  valid_mean_mse = np.median(valid_mse_values)\n",
    "  valid_std_mse  = valid_mse_values.std()\n",
    "\n",
    "  test_mean_mse  = np.median(test_mse_values)\n",
    "  test_std_mse   = test_mse_values.std()\n",
    "\n",
    "  valid_mean_mse_arr[i] = valid_mean_mse\n",
    "  valid_std_mse_arr[i] = valid_std_mse\n",
    "\n",
    "  test_mean_mse_arr[i] = test_mean_mse\n",
    "  test_std_mse_arr[i] = test_std_mse"
   ]
  },
  {
   "cell_type": "code",
   "execution_count": 13,
   "id": "XGPFJoipADBf",
   "metadata": {
    "colab": {
     "base_uri": "https://localhost:8080/"
    },
    "id": "XGPFJoipADBf",
    "outputId": "5c697143-f9ab-40d9-b414-6634774dac8f"
   },
   "outputs": [
    {
     "name": "stdout",
     "output_type": "stream",
     "text": [
      "Valid MSE: Mean=0.085850, std=0.001433  for Original\n",
      "Valid MSE: Mean=0.084992, std=0.000906  for Concat Index\n",
      "Valid MSE: Mean=0.085240, std=0.000981  for Add Index\n",
      "Valid MSE: Mean=0.080908, std=0.002588  for Concat Sinusoidal\n",
      "Valid MSE: Mean=0.083015, std=0.000554  for Add Sinusoidal\n",
      "Valid MSE: Mean=0.080896, std=0.000618  for Concat Polynomial\n"
     ]
    }
   ],
   "source": [
    "for m,s,xi in zip(valid_mean_mse_arr, valid_std_mse_arr, pev_list):\n",
    "  print(f\"Valid MSE: Mean={m:.6f}, std={s:.6f}  for {xi}\")"
   ]
  },
  {
   "cell_type": "code",
   "execution_count": 14,
   "id": "s0Yd2gNcAg9I",
   "metadata": {
    "colab": {
     "base_uri": "https://localhost:8080/"
    },
    "id": "s0Yd2gNcAg9I",
    "outputId": "e5f80368-edfe-42f5-a0ba-0940438a597d"
   },
   "outputs": [
    {
     "name": "stdout",
     "output_type": "stream",
     "text": [
      "Test MSE: Mean=0.086760, std=0.001324  for Original\n",
      "Test MSE: Mean=0.085176, std=0.000700  for Concat Index\n",
      "Test MSE: Mean=0.085708, std=0.001175  for Add Index\n",
      "Test MSE: Mean=0.084243, std=0.000893  for Concat Sinusoidal\n",
      "Test MSE: Mean=0.082421, std=0.000966  for Add Sinusoidal\n",
      "Test MSE: Mean=0.084282, std=0.000954  for Concat Polynomial\n"
     ]
    }
   ],
   "source": [
    "for m,s,xi in zip(test_mean_mse_arr, test_std_mse_arr, pev_list):\n",
    "  print(f\"Test MSE: Mean={m:.6f}, std={s:.6f}  for {xi}\")"
   ]
  },
  {
   "cell_type": "code",
   "execution_count": null,
   "id": "915f21a0",
   "metadata": {},
   "outputs": [],
   "source": [
    "file_list  = [training_process_path / (prex + x + '_process' + suffix + '.csv') for x in pe_list]\n",
    "file_list"
   ]
  },
  {
   "cell_type": "code",
   "execution_count": 19,
   "metadata": {},
   "outputs": [
    {
     "name": "stdout",
     "output_type": "stream",
     "text": [
      "(600, 4)\n"
     ]
    },
    {
     "data": {
      "text/html": [
       "<div>\n",
       "<style scoped>\n",
       "    .dataframe tbody tr th:only-of-type {\n",
       "        vertical-align: middle;\n",
       "    }\n",
       "\n",
       "    .dataframe tbody tr th {\n",
       "        vertical-align: top;\n",
       "    }\n",
       "\n",
       "    .dataframe thead th {\n",
       "        text-align: right;\n",
       "    }\n",
       "</style>\n",
       "<table border=\"1\" class=\"dataframe\">\n",
       "  <thead>\n",
       "    <tr style=\"text-align: right;\">\n",
       "      <th></th>\n",
       "      <th>epoch</th>\n",
       "      <th>train_err</th>\n",
       "      <th>valid_err</th>\n",
       "      <th>test_err</th>\n",
       "    </tr>\n",
       "  </thead>\n",
       "  <tbody>\n",
       "    <tr>\n",
       "      <th>0</th>\n",
       "      <td>0</td>\n",
       "      <td>0.035087</td>\n",
       "      <td>0.025555</td>\n",
       "      <td>0.021251</td>\n",
       "    </tr>\n",
       "    <tr>\n",
       "      <th>1</th>\n",
       "      <td>1</td>\n",
       "      <td>0.024675</td>\n",
       "      <td>0.019450</td>\n",
       "      <td>0.016604</td>\n",
       "    </tr>\n",
       "    <tr>\n",
       "      <th>2</th>\n",
       "      <td>2</td>\n",
       "      <td>0.021841</td>\n",
       "      <td>0.017667</td>\n",
       "      <td>0.015391</td>\n",
       "    </tr>\n",
       "    <tr>\n",
       "      <th>3</th>\n",
       "      <td>3</td>\n",
       "      <td>0.019186</td>\n",
       "      <td>0.224177</td>\n",
       "      <td>0.225951</td>\n",
       "    </tr>\n",
       "    <tr>\n",
       "      <th>4</th>\n",
       "      <td>4</td>\n",
       "      <td>0.017824</td>\n",
       "      <td>0.016555</td>\n",
       "      <td>0.014245</td>\n",
       "    </tr>\n",
       "  </tbody>\n",
       "</table>\n",
       "</div>"
      ],
      "text/plain": [
       "   epoch  train_err  valid_err  test_err\n",
       "0      0   0.035087   0.025555  0.021251\n",
       "1      1   0.024675   0.019450  0.016604\n",
       "2      2   0.021841   0.017667  0.015391\n",
       "3      3   0.019186   0.224177  0.225951\n",
       "4      4   0.017824   0.016555  0.014245"
      ]
     },
     "execution_count": 19,
     "metadata": {},
     "output_type": "execute_result"
    }
   ],
   "source": [
    "k = 2\n",
    "pev = pev_list[k]\n",
    "process_df = pd.read_csv(training_process_path / file_list[k])\n",
    "print(process_df.shape)\n",
    "process_df.head()"
   ]
  },
  {
   "cell_type": "code",
   "execution_count": null,
   "metadata": {},
   "outputs": [],
   "source": [
    "process_train_err    = np.sqrt(process_df['train_err'].values)\n",
    "process_validate_err = np.sqrt(process_df['valid_err'].values)\n",
    "process_test_err     = np.sqrt(process_df['test_err'].values)\n",
    "epochs               = process_df['epoch'].values"
   ]
  },
  {
   "cell_type": "code",
   "execution_count": 22,
   "metadata": {},
   "outputs": [
    {
     "data": {
      "text/plain": [
       "60"
      ]
     },
     "execution_count": 22,
     "metadata": {},
     "output_type": "execute_result"
    }
   ],
   "source": [
    "nepochs = epochs.max() + 1\n",
    "nepochs"
   ]
  },
  {
   "cell_type": "code",
   "execution_count": 23,
   "metadata": {},
   "outputs": [],
   "source": [
    "epoch_chunks = split_into_chunks(epochs, nepochs)\n",
    "process_train_err_chunks    = split_into_chunks(process_train_err, nepochs)\n",
    "process_validate_err_chunks = split_into_chunks(process_validate_err, nepochs)\n",
    "process_test_err_chunks     = split_into_chunks(process_test_err, nepochs)"
   ]
  },
  {
   "cell_type": "code",
   "execution_count": null,
   "metadata": {},
   "outputs": [
    {
     "name": "stdout",
     "output_type": "stream",
     "text": [
      "Pearson Correlation Coefficient: 0.906195072764091\n",
      "P-value: 1.0508332606396766e-225\n"
     ]
    }
   ],
   "source": [
    "rp, p_value = spearmanr(process_train_err, process_validate_err)\n",
    "\n",
    "print(f\"Pearson Correlation Coefficient: {rp}\")\n",
    "print(f\"P-value: {p_value}\")"
   ]
  },
  {
   "cell_type": "code",
   "execution_count": 30,
   "metadata": {},
   "outputs": [],
   "source": [
    "process_train_rmse_mean = np.zeros((10, npe))\n",
    "process_valid_rmse_mean = np.zeros((10, npe))\n",
    "process_test_rmse_mean  = np.zeros((10, npe))\n",
    "\n",
    "mean_train_mse_cnn = np.zeros(nepochs)\n",
    "mean_valid_mse_cnn = np.zeros(nepochs)\n",
    "mean_test_mse_cnn  = np.zeros(nepochs)\n",
    "\n",
    "# Loop through your scatter plot data and create subplots\n",
    "for i, (xfile_list, pev) in enumerate(zip(file_list, pev_list)):\n",
    "    process_df = pd.read_csv(training_process_path / xfile_list)\n",
    "\n",
    "    process_train_err    = np.sqrt(process_df['train_err'].values)\n",
    "    process_validate_err = np.sqrt(process_df['valid_err'].values)\n",
    "    process_test_err     = np.sqrt(process_df['test_err'].values)\n",
    "    epochs               = process_df['epoch'].values\n",
    "\n",
    "    epoch_chunks = split_into_chunks(epochs, nepochs)\n",
    "    process_train_err_chunks    = split_into_chunks(process_train_err, nepochs)\n",
    "    process_validate_err_chunks = split_into_chunks(process_validate_err, nepochs)\n",
    "    process_test_err_chunks     = split_into_chunks(process_test_err, nepochs)\n",
    "\n",
    "    process_train_rmse_mean[:,i] = np.asarray([np.median(x) for x in process_train_err_chunks])\n",
    "    process_valid_rmse_mean[:,i] = np.asarray([np.median(x) for x in process_validate_err_chunks])\n",
    "    process_test_rmse_mean[:,i]  = np.asarray([np.median(x) for x in process_test_err_chunks])\n",
    "\n",
    "    mean_process_train_err    = process_train_err_chunks.mean(axis=0)\n",
    "    mean_process_validate_err = process_validate_err_chunks.mean(axis=0)\n",
    "    mean_process_test_err     = process_test_err_chunks.mean(axis=0)\n",
    "\n",
    "    mean_train_mse_cnn += mean_process_train_err\n",
    "    mean_valid_mse_cnn += mean_process_validate_err\n",
    "    mean_test_mse_cnn += mean_process_test_err\n",
    "# End - for\n",
    "mean_train_mse_cnn = mean_train_mse_cnn / npe\n",
    "mean_valid_mse_cnn = mean_valid_mse_cnn / npe\n",
    "mean_test_mse_cnn  = mean_test_mse_cnn / npe"
   ]
  },
  {
   "cell_type": "markdown",
   "id": "48abbe98",
   "metadata": {},
   "source": [
    "# Read the CSV: CNN-Transformer"
   ]
  },
  {
   "cell_type": "code",
   "execution_count": null,
   "id": "474ab1fb",
   "metadata": {},
   "outputs": [],
   "source": [
    "ctrans_data_path = train_data_path / 'ctrans'\n",
    "checkpoint_path = ctrans_data_path / 'checkpoint'"
   ]
  },
  {
   "cell_type": "code",
   "execution_count": null,
   "metadata": {},
   "outputs": [],
   "source": [
    "pe_list  = ['original_vector',  'index_concate',  'index_add',  'sin_concate',  'sin_add', 'poly_concate', 'learnable_PEV']\n",
    "pev_list = ['Original', 'Concat Index', 'Add Index', 'Concat Sinusoidal', 'Add Sinusoidal', 'Concat Polynomial', 'Learnable']\n",
    "npe = len(pe_list)\n",
    "pe_list"
   ]
  },
  {
   "cell_type": "code",
   "execution_count": null,
   "id": "2a1a2542",
   "metadata": {},
   "outputs": [],
   "source": [
    "prex   = 'ct_'\n",
    "suffix = '_c256'\n",
    "\n",
    "training_process_path = ctrans_data_path / 'training_process' / 'c256'\n",
    "file_list  = [training_process_path / (x + '.csv') for x in pe_list]"
   ]
  },
  {
   "cell_type": "code",
   "execution_count": null,
   "id": "67432e65",
   "metadata": {},
   "outputs": [],
   "source": [
    "ct_valid_mean_mse_arr = np.zeros(npe)\n",
    "ct_valid_std_mse_arr = np.zeros(npe)\n",
    "\n",
    "ct_test_mean_mse_arr = np.zeros(npe)\n",
    "ct_test_std_mse_arr = np.zeros(npe)\n",
    "\n",
    "ct_valid_mean_mse_arr_list = []\n",
    "ct_test_mean_mse_arr_list  = []\n",
    "\n",
    "for (i, csvfile) in enumerate(file_list):\n",
    "  df = pd.read_csv(csvfile)\n",
    "\n",
    "  ct_valid_mse_values = np.sqrt(df.valid_err.values)\n",
    "  ct_test_mse_values  = np.sqrt(df.test_err.values)\n",
    "\n",
    "  ct_valid_mean_mse_arr_list.append(ct_valid_mse_values)\n",
    "  ct_test_mean_mse_arr_list.append(ct_test_mse_values)\n",
    "\n",
    "  ct_valid_mean_mse = np.median(ct_valid_mse_values)\n",
    "  ct_valid_std_mse  = ct_valid_mse_values.std()\n",
    "\n",
    "  ct_test_mean_mse  = np.median(ct_test_mse_values)\n",
    "  ct_test_std_mse   = ct_test_mse_values.std()\n",
    "\n",
    "  ct_valid_mean_mse_arr[i] = ct_valid_mean_mse\n",
    "  ct_valid_std_mse_arr[i]  = ct_valid_std_mse\n",
    "\n",
    "  ct_test_mean_mse_arr[i] = ct_test_mean_mse\n",
    "  ct_test_std_mse_arr[i] = ct_test_std_mse"
   ]
  },
  {
   "cell_type": "code",
   "execution_count": 39,
   "id": "4d835f31",
   "metadata": {},
   "outputs": [
    {
     "name": "stdout",
     "output_type": "stream",
     "text": [
      "Valid MSE: Mean=0.079554, std=0.001853  for Original\n",
      "Valid MSE: Mean=0.081057, std=0.001573  for Concat Index\n",
      "Valid MSE: Mean=0.078709, std=0.002885  for Add Index\n",
      "Valid MSE: Mean=0.083327, std=0.002918  for Concat Sinusoidal\n",
      "Valid MSE: Mean=0.079715, std=0.001735  for Add Sinusoidal\n",
      "Valid MSE: Mean=0.078649, std=0.002599  for Concat Polynomial\n",
      "Valid MSE: Mean=0.079674, std=0.003232  for Learnable\n"
     ]
    }
   ],
   "source": [
    "for m,s,xi in zip(ct_valid_mean_mse_arr, ct_valid_std_mse_arr, pev_list):\n",
    "  print(f\"Valid MSE: Mean={m:.6f}, std={s:.6f}  for {xi}\")"
   ]
  },
  {
   "cell_type": "code",
   "execution_count": 40,
   "id": "a21ec453",
   "metadata": {},
   "outputs": [
    {
     "name": "stdout",
     "output_type": "stream",
     "text": [
      "Test MSE: Mean=0.079547, std=0.001893  for Original\n",
      "Test MSE: Mean=0.077652, std=0.001538  for Concat Index\n",
      "Test MSE: Mean=0.081610, std=0.003322  for Add Index\n",
      "Test MSE: Mean=0.079137, std=0.002411  for Concat Sinusoidal\n",
      "Test MSE: Mean=0.076842, std=0.001520  for Add Sinusoidal\n",
      "Test MSE: Mean=0.078770, std=0.002948  for Concat Polynomial\n",
      "Test MSE: Mean=0.080684, std=0.002753  for Learnable\n"
     ]
    }
   ],
   "source": [
    "for m,s,xi in zip(ct_test_mean_mse_arr, ct_test_std_mse_arr, pev_list):\n",
    "  print(f\"Test MSE: Mean={m:.6f}, std={s:.6f}  for {xi}\")"
   ]
  },
  {
   "cell_type": "code",
   "execution_count": null,
   "metadata": {},
   "outputs": [],
   "source": [
    "file_list  = [training_process_path / (x + '_process' + '.csv') for x in pe_list]\n",
    "file_list"
   ]
  },
  {
   "cell_type": "code",
   "execution_count": 44,
   "metadata": {},
   "outputs": [
    {
     "name": "stdout",
     "output_type": "stream",
     "text": [
      "(600, 4)\n"
     ]
    },
    {
     "data": {
      "text/html": [
       "<div>\n",
       "<style scoped>\n",
       "    .dataframe tbody tr th:only-of-type {\n",
       "        vertical-align: middle;\n",
       "    }\n",
       "\n",
       "    .dataframe tbody tr th {\n",
       "        vertical-align: top;\n",
       "    }\n",
       "\n",
       "    .dataframe thead th {\n",
       "        text-align: right;\n",
       "    }\n",
       "</style>\n",
       "<table border=\"1\" class=\"dataframe\">\n",
       "  <thead>\n",
       "    <tr style=\"text-align: right;\">\n",
       "      <th></th>\n",
       "      <th>epoch</th>\n",
       "      <th>train_err</th>\n",
       "      <th>valid_err</th>\n",
       "      <th>test_err</th>\n",
       "    </tr>\n",
       "  </thead>\n",
       "  <tbody>\n",
       "    <tr>\n",
       "      <th>0</th>\n",
       "      <td>0</td>\n",
       "      <td>0.049904</td>\n",
       "      <td>0.030582</td>\n",
       "      <td>0.033241</td>\n",
       "    </tr>\n",
       "    <tr>\n",
       "      <th>1</th>\n",
       "      <td>1</td>\n",
       "      <td>0.034214</td>\n",
       "      <td>0.026698</td>\n",
       "      <td>0.028901</td>\n",
       "    </tr>\n",
       "    <tr>\n",
       "      <th>2</th>\n",
       "      <td>2</td>\n",
       "      <td>0.029799</td>\n",
       "      <td>0.021613</td>\n",
       "      <td>0.023977</td>\n",
       "    </tr>\n",
       "    <tr>\n",
       "      <th>3</th>\n",
       "      <td>3</td>\n",
       "      <td>0.027742</td>\n",
       "      <td>0.021686</td>\n",
       "      <td>0.024445</td>\n",
       "    </tr>\n",
       "    <tr>\n",
       "      <th>4</th>\n",
       "      <td>4</td>\n",
       "      <td>0.025082</td>\n",
       "      <td>0.018689</td>\n",
       "      <td>0.020931</td>\n",
       "    </tr>\n",
       "  </tbody>\n",
       "</table>\n",
       "</div>"
      ],
      "text/plain": [
       "   epoch  train_err  valid_err  test_err\n",
       "0      0   0.049904   0.030582  0.033241\n",
       "1      1   0.034214   0.026698  0.028901\n",
       "2      2   0.029799   0.021613  0.023977\n",
       "3      3   0.027742   0.021686  0.024445\n",
       "4      4   0.025082   0.018689  0.020931"
      ]
     },
     "execution_count": 44,
     "metadata": {},
     "output_type": "execute_result"
    }
   ],
   "source": [
    "k = 2\n",
    "pev = pev_list[k]\n",
    "process_df = pd.read_csv(training_process_path / file_list[k])\n",
    "print(process_df.shape)\n",
    "process_df.head()"
   ]
  },
  {
   "cell_type": "code",
   "execution_count": null,
   "metadata": {},
   "outputs": [],
   "source": [
    "proc_train_err    = np.sqrt(process_df['train_err'].values)\n",
    "proc_validate_err = np.sqrt(process_df['valid_err'].values)\n",
    "proc_test_err     = np.sqrt(process_df['test_err'].values)\n",
    "epochs            = process_df['epoch'].values"
   ]
  },
  {
   "cell_type": "code",
   "execution_count": 46,
   "metadata": {},
   "outputs": [
    {
     "data": {
      "text/plain": [
       "60"
      ]
     },
     "execution_count": 46,
     "metadata": {},
     "output_type": "execute_result"
    }
   ],
   "source": [
    "nepochs = epochs.max() + 1\n",
    "nepochs"
   ]
  },
  {
   "cell_type": "code",
   "execution_count": 47,
   "metadata": {},
   "outputs": [],
   "source": [
    "epoch_chunks = split_into_chunks(epochs, nepochs)\n",
    "proc_train_err_chunks    = split_into_chunks(proc_train_err, nepochs)\n",
    "proc_validate_err_chunks = split_into_chunks(proc_validate_err, nepochs)\n",
    "proc_test_err_chunks     = split_into_chunks(proc_test_err, nepochs)"
   ]
  },
  {
   "cell_type": "code",
   "execution_count": 51,
   "metadata": {},
   "outputs": [],
   "source": [
    "proc_train_rmse_mean = np.zeros((10, npe))\n",
    "proc_valid_rmse_mean = np.zeros((10, npe))\n",
    "proc_test_rmse_mean  = np.zeros((10, npe))\n",
    "\n",
    "\n",
    "mean_train_mse_ct = np.zeros(nepochs)\n",
    "mean_valid_mse_ct = np.zeros(nepochs)\n",
    "mean_test_mse_ct  = np.zeros(nepochs)\n",
    "\n",
    "# Loop through your scatter plot data and create subplots\n",
    "for i, (xfile_list, pev) in enumerate(zip(file_list, pev_list)):\n",
    "    proc_df = pd.read_csv(training_process_path / xfile_list)\n",
    "\n",
    "    proc_train_err    = np.sqrt(proc_df['train_err'].values)\n",
    "    proc_validate_err = np.sqrt(proc_df['valid_err'].values)\n",
    "    proc_test_err     = np.sqrt(proc_df['test_err'].values)\n",
    "    epochs               = proc_df['epoch'].values\n",
    "\n",
    "    epoch_chunks = split_into_chunks(epochs, nepochs)\n",
    "    proc_train_err_chunks    = split_into_chunks(proc_train_err, nepochs)\n",
    "    proc_validate_err_chunks = split_into_chunks(proc_validate_err, nepochs)\n",
    "    proc_test_err_chunks     = split_into_chunks(proc_test_err, nepochs)\n",
    "\n",
    "    proc_train_rmse_mean[:,i] = np.asarray([np.median(x) for x in proc_train_err_chunks])\n",
    "    proc_valid_rmse_mean[:,i] = np.asarray([np.median(x) for x in proc_validate_err_chunks])\n",
    "    proc_test_rmse_mean[:,i]  = np.asarray([np.median(x) for x in proc_test_err_chunks])\n",
    "\n",
    "    mean_process_train_err    = np.median(process_train_err_chunks, axis=0) # process_train_err_chunks.mean(axis=0)\n",
    "    mean_process_validate_err = np.median(process_validate_err_chunks, axis=0) # process_validate_err_chunks.mean(axis=0)\n",
    "    mean_process_test_err     = np.median(process_test_err_chunks, axis=0) # process_test_err_chunks.mean(axis=0)\n",
    "\n",
    "    mean_train_mse_ct += mean_process_train_err\n",
    "    mean_valid_mse_ct += mean_process_validate_err\n",
    "    mean_test_mse_ct += mean_process_test_err\n",
    "# End - for\n",
    "mean_train_mse_ct = mean_train_mse_ct / npe\n",
    "mean_valid_mse_ct = mean_valid_mse_ct / npe\n",
    "mean_test_mse_ct  = mean_test_mse_ct / npe"
   ]
  },
  {
   "cell_type": "markdown",
   "id": "b429e445",
   "metadata": {},
   "source": [
    "# Comparison"
   ]
  },
  {
   "cell_type": "code",
   "execution_count": null,
   "metadata": {},
   "outputs": [
    {
     "data": {
      "image/png": "[encoded data removed]",
      "text/plain": [
       "<Figure size 900x800 with 2 Axes>"
      ]
     },
     "metadata": {},
     "output_type": "display_data"
    }
   ],
   "source": [
    "# Plot\n",
    "fig, (ax, ax1) = plt.subplots(figsize=(9,8), nrows=2, sharex=True)\n",
    "\n",
    "\n",
    "ax.plot(epoch_chunks[0]+1, mean_train_mse_ct, 'k-', label=r'Convolutional$-$Transformer')\n",
    "ax.plot(epoch_chunks[0]+1, mean_train_mse_cnn, 'k--', label=f'CNNs')\n",
    "\n",
    "# Add axes labels\n",
    "ax.set_xlabel(r'Epochs', fontsize=22)\n",
    "ax.set_ylabel(r\"Median RMSE$_\\mathrm{Training}$\", fontsize=22)\n",
    "\n",
    "ax.tick_params(axis='x', labelsize=20, pad=4)\n",
    "ax.tick_params(axis='y', labelsize=20)\n",
    "ax.tick_params(which='both', width=2)\n",
    "ax.tick_params(which='major', length=4)\n",
    "ax.tick_params(which='minor', length=2)\n",
    "ax.set_ylim(0.073, 0.19)\n",
    "\n",
    "\n",
    "ax.legend(loc='upper right', fancybox=True, framealpha=0.5, labelcolor='k', fontsize=22)\n",
    "ax.grid(True, linestyle='--', linewidth=0.25, color='lightgray', zorder=-10)\n",
    "\n",
    "\n",
    "\n",
    "#\n",
    "ax1.plot(epoch_chunks[0]+1, mean_valid_mse_ct, 'k-', label=f'CNN$-$Transformer')\n",
    "ax1.plot(epoch_chunks[0]+1, mean_valid_mse_cnn, 'k--', label=f'CNNs')\n",
    "\n",
    "# Add axes labels\n",
    "ax1.set_xlabel(r'Epochs', fontsize=22)\n",
    "ax1.set_ylabel(r\"Median RMSE$_\\mathrm{Validation}$\", fontsize=22)\n",
    "\n",
    "\n",
    "ax1.tick_params(axis='x', labelsize=20, pad=4)\n",
    "ax1.tick_params(axis='y', labelsize=20)\n",
    "ax1.tick_params(which='both', width=2)\n",
    "ax1.tick_params(which='major', length=4)\n",
    "ax1.tick_params(which='minor', length=2)\n",
    "ax1.set_ylim(0.073, 0.19)\n",
    "\n",
    "ax1.grid(True, linestyle='--', linewidth=0.25, color='lightgray', zorder=-10)\n",
    "\n",
    "\n",
    "# set the spacing between subplots\n",
    "plt.subplots_adjust(left=None,\n",
    "                    bottom=None,\n",
    "                    right=None,\n",
    "                    top=None,\n",
    "                    wspace=0,\n",
    "                    hspace=0.03\n",
    "                    )\n",
    "\n",
    "plt.show()"
   ]
  },
  {
   "cell_type": "markdown",
   "id": "3dfab0cb",
   "metadata": {},
   "source": [
    "To the Abstract: On average, how much better?"
   ]
  },
  {
   "cell_type": "code",
   "execution_count": 62,
   "id": "55186d55",
   "metadata": {},
   "outputs": [
    {
     "name": "stdout",
     "output_type": "stream",
     "text": [
      "0.09336918571402537\n",
      "0.10237228109607655\n",
      "On average, how much better? 9.642469636209732\n"
     ]
    }
   ],
   "source": [
    "ct_med_rmse = np.mean(mean_valid_mse_ct)\n",
    "cnn_med_rmse = np.mean(mean_valid_mse_cnn)\n",
    "tmp = 100.*(cnn_med_rmse - ct_med_rmse)/ct_med_rmse\n",
    "print(ct_med_rmse)\n",
    "print(cnn_med_rmse)\n",
    "print('On average, how much better?', tmp, '%')"
   ]
  },
  {
   "cell_type": "markdown",
   "id": "2711f425",
   "metadata": {},
   "source": [
    "# End"
   ]
  }
 ],
 "metadata": {
  "colab": {
   "provenance": []
  },
  "kernelspec": {
   "display_name": "gfit",
   "language": "python",
   "name": "python3"
  },
  "language_info": {
   "codemirror_mode": {
    "name": "ipython",
    "version": 3
   },
   "file_extension": ".py",
   "mimetype": "text/x-python",
   "name": "python",
   "nbconvert_exporter": "python",
   "pygments_lexer": "ipython3",
   "version": "3.10.4"
  }
 },
 "nbformat": 4,
 "nbformat_minor": 5
}
