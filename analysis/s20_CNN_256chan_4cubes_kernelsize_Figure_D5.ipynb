{
 "cells": [
  {
   "cell_type": "markdown",
   "id": "36737934-3386-45e4-a936-e1faba91c343",
   "metadata": {
    "id": "36737934-3386-45e4-a936-e1faba91c343"
   },
   "source": [
    "# Libraries"
   ]
  },
  {
   "cell_type": "code",
   "execution_count": null,
   "id": "760c367a-2fea-43d6-a704-4e9e95433084",
   "metadata": {
    "id": "760c367a-2fea-43d6-a704-4e9e95433084"
   },
   "outputs": [],
   "source": [
    "import numpy as np\n",
    "\n",
    "import matplotlib.pyplot as plt\n",
    "import pandas as pd\n",
    "\n",
    "import torch\n",
    "\n",
    "from pathlib import Path"
   ]
  },
  {
   "cell_type": "code",
   "execution_count": null,
   "id": "eqlpX27AY9Fm",
   "metadata": {
    "id": "eqlpX27AY9Fm"
   },
   "outputs": [],
   "source": [
    "# Set the font family for math symbols\n",
    "plt.rcParams[\"mathtext.fontset\"] = \"custom\"\n",
    "plt.rcParams[\"mathtext.rm\"] = \"Times New Roman\"\n",
    "plt.rcParams[\"mathtext.it\"] = \"Times New Roman:italic\"\n",
    "plt.rcParams[\"mathtext.bf\"] = \"Times New Roman:bold\"\n",
    "\n",
    "plt.rcParams['mathtext.fontset'] = 'cm'\n",
    "plt.rcParams['font.family'] = 'STIXGeneral'"
   ]
  },
  {
   "cell_type": "markdown",
   "id": "31a0d580",
   "metadata": {},
   "source": [
    "# Fcn"
   ]
  },
  {
   "cell_type": "code",
   "execution_count": null,
   "id": "7fad5643",
   "metadata": {},
   "outputs": [],
   "source": [
    "def to_width(x):\n",
    "    return x*0.3125"
   ]
  },
  {
   "cell_type": "markdown",
   "id": "Pmxti1kr4cF1",
   "metadata": {
    "id": "Pmxti1kr4cF1"
   },
   "source": [
    "# Paths"
   ]
  },
  {
   "cell_type": "code",
   "execution_count": null,
   "id": "zC0p1HR24dtt",
   "metadata": {
    "colab": {
     "base_uri": "https://localhost:8080/"
    },
    "id": "zC0p1HR24dtt",
    "outputId": "6a01249d-b597-4588-d198-ad0fbbeca771"
   },
   "outputs": [],
   "source": [
    "home_path = Path.home()\n",
    "\n",
    "base = home_path / 'base'\n",
    "data_path = base / 'data'\n",
    "ml_data_path = data_path / 'ML'\n",
    "ppv_data_path = ml_data_path / 'ppv'\n",
    "\n",
    "train_data_path = ml_data_path / 'train'\n",
    "ksize_path = train_data_path / 'ksize'"
   ]
  },
  {
   "cell_type": "markdown",
   "id": "7Q93pgOoHkZP",
   "metadata": {
    "id": "7Q93pgOoHkZP"
   },
   "source": [
    "# GPU or CPU"
   ]
  },
  {
   "cell_type": "code",
   "execution_count": 7,
   "id": "lzw9fzzAHjVj",
   "metadata": {
    "colab": {
     "base_uri": "https://localhost:8080/"
    },
    "id": "lzw9fzzAHjVj",
    "outputId": "e56687a2-ddbc-41c3-a66e-36a8ed868ce0"
   },
   "outputs": [
    {
     "name": "stdout",
     "output_type": "stream",
     "text": [
      "device:  cpu\n"
     ]
    }
   ],
   "source": [
    "# GPU or CPU\n",
    "device = torch.device('cuda:0' if torch.cuda.is_available() else 'cpu')\n",
    "print('device: ', device)"
   ]
  },
  {
   "cell_type": "code",
   "execution_count": 8,
   "id": "XkKpJlrBamnV",
   "metadata": {
    "colab": {
     "base_uri": "https://localhost:8080/"
    },
    "id": "XkKpJlrBamnV",
    "outputId": "e28ba56f-2d3c-4656-ee92-6f058176369c"
   },
   "outputs": [
    {
     "data": {
      "text/plain": [
       "0"
      ]
     },
     "execution_count": 8,
     "metadata": {},
     "output_type": "execute_result"
    }
   ],
   "source": [
    "torch.cuda.device_count()"
   ]
  },
  {
   "cell_type": "markdown",
   "id": "8e93a3f5",
   "metadata": {},
   "source": [
    "# Kernel Size: CNN (1split)"
   ]
  },
  {
   "cell_type": "code",
   "execution_count": null,
   "metadata": {},
   "outputs": [],
   "source": [
    "ksize_list = [2, 3, 9, 17, 25, 27, 35, 39, 45]\n",
    "file_list  = [ksize_path / ('cnn_original_vector_c256_ks_' + str(x) + '.csv') for x in ksize_list]\n",
    "n = len(ksize_list)"
   ]
  },
  {
   "cell_type": "code",
   "execution_count": 10,
   "id": "6fe4f102",
   "metadata": {},
   "outputs": [],
   "source": [
    "valid_mean_mse_arr = np.zeros(n)\n",
    "valid_std_mse_arr = np.zeros(n)\n",
    "\n",
    "test_mean_mse_arr = np.zeros(n)\n",
    "test_std_mse_arr = np.zeros(n)\n",
    "\n",
    "valid_mean_mse_arr_list = []\n",
    "test_mean_mse_arr_list  = []\n",
    "\n",
    "for (i, csvfile) in enumerate(file_list):\n",
    "  df = pd.read_csv(csvfile)\n",
    "\n",
    "  valid_mse_values = np.sqrt(df.valid_err.values)\n",
    "  test_mse_values  = np.sqrt(df.test_err.values)\n",
    "\n",
    "  valid_mean_mse_arr_list.append(valid_mse_values)\n",
    "  test_mean_mse_arr_list.append(test_mse_values)\n",
    "\n",
    "  valid_mean_mse = np.median(valid_mse_values)\n",
    "  valid_std_mse  = valid_mse_values.std()\n",
    "\n",
    "  test_mean_mse  = np.median(test_mse_values)\n",
    "  test_std_mse   = test_mse_values.std()\n",
    "\n",
    "  valid_mean_mse_arr[i] = valid_mean_mse\n",
    "  valid_std_mse_arr[i] = valid_std_mse\n",
    "\n",
    "  test_mean_mse_arr[i] = test_mean_mse\n",
    "  test_std_mse_arr[i] = test_std_mse"
   ]
  },
  {
   "cell_type": "code",
   "execution_count": 12,
   "id": "XGPFJoipADBf",
   "metadata": {
    "colab": {
     "base_uri": "https://localhost:8080/"
    },
    "id": "XGPFJoipADBf",
    "outputId": "5c697143-f9ab-40d9-b414-6634774dac8f"
   },
   "outputs": [
    {
     "name": "stdout",
     "output_type": "stream",
     "text": [
      "Valid MSE: Mean=0.094315, std=0.001137  for 2\n",
      "Valid MSE: Mean=0.088694, std=0.000913  for 3\n",
      "Valid MSE: Mean=0.081312, std=0.000723  for 9\n",
      "Valid MSE: Mean=0.082885, std=0.000483  for 17\n",
      "Valid MSE: Mean=0.080367, std=0.000286  for 25\n",
      "Valid MSE: Mean=0.082027, std=0.000910  for 27\n",
      "Valid MSE: Mean=0.077233, std=0.000756  for 35\n",
      "Valid MSE: Mean=0.078145, std=0.000012  for 39\n",
      "Valid MSE: Mean=0.080265, std=0.000000  for 45\n"
     ]
    }
   ],
   "source": [
    "for m,s,xi in zip(valid_mean_mse_arr, valid_std_mse_arr, ksize_list):\n",
    "  print(f\"Valid MSE: Mean={m:.6f}, std={s:.6f}  for {xi}\")"
   ]
  },
  {
   "cell_type": "code",
   "execution_count": 13,
   "id": "s0Yd2gNcAg9I",
   "metadata": {
    "colab": {
     "base_uri": "https://localhost:8080/"
    },
    "id": "s0Yd2gNcAg9I",
    "outputId": "e5f80368-edfe-42f5-a0ba-0940438a597d"
   },
   "outputs": [
    {
     "name": "stdout",
     "output_type": "stream",
     "text": [
      "Test MSE: Mean=0.095084, std=0.001489  for 2\n",
      "Test MSE: Mean=0.087771, std=0.000580  for 3\n",
      "Test MSE: Mean=0.085238, std=0.000710  for 9\n",
      "Test MSE: Mean=0.083233, std=0.000268  for 17\n",
      "Test MSE: Mean=0.083163, std=0.000625  for 25\n",
      "Test MSE: Mean=0.081184, std=0.000979  for 27\n",
      "Test MSE: Mean=0.079261, std=0.000552  for 35\n",
      "Test MSE: Mean=0.075268, std=0.000070  for 39\n",
      "Test MSE: Mean=0.080666, std=0.000000  for 45\n"
     ]
    }
   ],
   "source": [
    "for m,s,xi in zip(test_mean_mse_arr, test_std_mse_arr, ksize_list):\n",
    "  print(f\"Test MSE: Mean={m:.6f}, std={s:.6f}  for {xi}\")"
   ]
  },
  {
   "cell_type": "code",
   "execution_count": 18,
   "metadata": {},
   "outputs": [],
   "source": [
    "nlen = len(valid_mean_mse_arr_list)\n",
    "test_rmse_arr = np.zeros(nlen)\n",
    "test_sigrmse_arr = np.zeros(nlen)\n",
    "for k, (x,y) in enumerate(zip(valid_mean_mse_arr_list, test_mean_mse_arr_list)):\n",
    "    xtemp = np.concatenate((x,y))\n",
    "    rmse_i = np.median(xtemp)\n",
    "    sigrmse_i = np.std(xtemp)\n",
    "    test_rmse_arr[k] = rmse_i\n",
    "    test_sigrmse_arr[k] = sigrmse_i"
   ]
  },
  {
   "cell_type": "code",
   "execution_count": 19,
   "metadata": {},
   "outputs": [],
   "source": [
    "filter_indices = [1, 2, 3, 4, 6, 7, 8]\n",
    "test_rmse_arr = test_rmse_arr[filter_indices]\n",
    "test_sigrmse_arr = test_sigrmse_arr[filter_indices]\n",
    "\n",
    "ksize_list = [3, 9, 17, 25, 35, 39, 45]"
   ]
  },
  {
   "cell_type": "code",
   "execution_count": null,
   "metadata": {},
   "outputs": [
    {
     "data": {
      "image/png": "[encoded data removed]",
      "text/plain": [
       "<Figure size 800x400 with 1 Axes>"
      ]
     },
     "metadata": {},
     "output_type": "display_data"
    }
   ],
   "source": [
    "# Set font to Times New Roman\n",
    "plt.rcParams[\"mathtext.rm\"] = \"Times New Roman\"\n",
    "plt.rcParams[\"mathtext.it\"] = \"Times New Roman:italic\"\n",
    "plt.rcParams[\"mathtext.bf\"] = \"Times New Roman:bold\"\n",
    "\n",
    "\n",
    "fig, ax = plt.subplots(figsize=(8,4), nrows=1, sharex=True)\n",
    "\n",
    "PROPS = {\n",
    "    'boxprops':{'facecolor':'none', 'edgecolor':'grey'},\n",
    "    'medianprops':{'color':'grey'},\n",
    "    'whiskerprops':{'color':'grey'},\n",
    "    'capprops':{'color':'grey'}\n",
    "}\n",
    "\n",
    "ax.plot(ksize_list, test_rmse_arr, 'ko', zorder=2, label='')\n",
    "ax.plot(ksize_list, test_rmse_arr, 'k--', zorder=2, label='')\n",
    "\n",
    "\n",
    "ax.set_xlabel('Kernel sizes [velocity channels]', fontsize=22)\n",
    "ax.set_ylabel('Testing RMSE', fontsize=22)\n",
    "ax.tick_params(axis='both', which='both', length=6, width=1, labelsize=16)\n",
    "\n",
    "\n",
    "ax.tick_params(axis='x', labelsize=22, pad=4)\n",
    "ax.tick_params(axis='y', labelsize=22)\n",
    "ax.tick_params(which='both', width=2)\n",
    "ax.tick_params(which='major', length=4)\n",
    "ax.tick_params(which='minor', length=2)\n",
    "\n",
    "ax.grid(True, linestyle='--', linewidth=0.25, color='lightgray', zorder=-10)\n",
    "\n",
    "\n",
    "\n",
    "secax = ax.secondary_xaxis('top', functions=(to_width, to_width))\n",
    "secax.set_xlabel('Spectral width [km s$^{-1}$]', fontsize=22, labelpad=10)\n",
    "\n",
    "secax.tick_params(axis='x', labelsize=20, pad=2)\n",
    "secax.tick_params(which='both', width=2)\n",
    "secax.tick_params(which='major', length=4)\n",
    "secax.tick_params(which='minor', length=2)\n",
    "\n",
    "\n",
    "\n",
    "\n",
    "# set the spacing between subplots\n",
    "plt.subplots_adjust(left=None,\n",
    "                    bottom=None,\n",
    "                    right=None,\n",
    "                    top=None,\n",
    "                    wspace=0.,\n",
    "                    hspace=0.05\n",
    "                    )\n",
    "\n",
    "\n",
    "\n",
    "plt.show()"
   ]
  },
  {
   "cell_type": "markdown",
   "id": "2711f425",
   "metadata": {},
   "source": [
    "# End"
   ]
  }
 ],
 "metadata": {
  "colab": {
   "provenance": []
  },
  "kernelspec": {
   "display_name": "Python 3",
   "name": "python3"
  },
  "language_info": {
   "codemirror_mode": {
    "name": "ipython",
    "version": 3
   },
   "file_extension": ".py",
   "mimetype": "text/x-python",
   "name": "python",
   "nbconvert_exporter": "python",
   "pygments_lexer": "ipython3",
   "version": "3.10.4"
  }
 },
 "nbformat": 4,
 "nbformat_minor": 5
}
